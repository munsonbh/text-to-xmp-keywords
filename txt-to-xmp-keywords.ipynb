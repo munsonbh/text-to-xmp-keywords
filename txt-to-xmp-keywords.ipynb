{
 "cells": [
  {
   "cell_type": "code",
   "execution_count": 1,
   "id": "33a06f2f-cf6c-465d-a730-21d117c58019",
   "metadata": {},
   "outputs": [],
   "source": [
    "# Choose your image directory\n",
    "image_directory = '/Users/…'"
   ]
  },
  {
   "cell_type": "code",
   "execution_count": null,
   "id": "3fbc2601-64c3-4abd-a20e-dd5c164fc9e9",
   "metadata": {},
   "outputs": [],
   "source": [
    "import subprocess\n",
    "import os\n",
    "\n",
    "if os.path.isdir(image_directory):\n",
    "    # Iterate through images in the directory\n",
    "    for image_file in os.listdir(image_directory):\n",
    "        if image_file.endswith(('.jpg', '.jpeg', '.png')):\n",
    "            image_path = os.path.join(image_directory, image_file)\n",
    "\n",
    "            # Check if it's a file\n",
    "            if os.path.isfile(image_path):\n",
    "                # Extract the base name of the image file (without extension)\n",
    "                image_name = os.path.splitext(image_file)[0]\n",
    "\n",
    "                # Check if there is a corresponding text file with the same name\n",
    "                text_file_path = os.path.join(image_directory, f\"{image_name}.txt\")\n",
    "\n",
    "                if os.path.exists(text_file_path):\n",
    "                    # Read keywords from the text file\n",
    "                    with open(text_file_path, 'r') as file:\n",
    "                        keywords = file.read().strip().replace(',', ';')\n",
    "\n",
    "                    # Construct the exiftool command to add keywords to XMP metadata and overwrite original\n",
    "                    command = f'exiftool -overwrite_original -xmp:subject+=\"{keywords}\" \"{image_path}\"'\n",
    "\n",
    "                    # Execute the exiftool command using subprocess.Popen to handle spaces in file paths\n",
    "                    subprocess.Popen(command, shell=True)\n",
    "\n",
    "                    print(f\"Added keywords from {text_file_path} to XMP metadata of {image_file}\")\n",
    "            else:\n",
    "                print(f\"Error: {image_file} is not a file.\")\n",
    "else:\n",
    "    print(f\"Error: Directory {image_directory} not found.\")"
   ]
  }
 ],
 "metadata": {
  "kernelspec": {
   "display_name": "Python 3 (ipykernel)",
   "language": "python",
   "name": "python3"
  },
  "language_info": {
   "codemirror_mode": {
    "name": "ipython",
    "version": 3
   },
   "file_extension": ".py",
   "mimetype": "text/x-python",
   "name": "python",
   "nbconvert_exporter": "python",
   "pygments_lexer": "ipython3",
   "version": "3.11.5"
  }
 },
 "nbformat": 4,
 "nbformat_minor": 5
}
